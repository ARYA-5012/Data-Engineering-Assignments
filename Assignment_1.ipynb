{
  "nbformat": 4,
  "nbformat_minor": 0,
  "metadata": {
    "colab": {
      "provenance": []
    },
    "kernelspec": {
      "name": "python3",
      "display_name": "Python 3"
    },
    "language_info": {
      "name": "python"
    }
  },
  "cells": [
    {
      "cell_type": "code",
      "execution_count": 1,
      "metadata": {
        "colab": {
          "base_uri": "https://localhost:8080/"
        },
        "id": "L-V85Pzbxf5J",
        "outputId": "683efc50-5bdd-4df3-da2a-672203b05b29"
      },
      "outputs": [
        {
          "output_type": "stream",
          "name": "stdout",
          "text": [
            "2\n",
            "Not Weird\n"
          ]
        }
      ],
      "source": [
        "n = int(input())\n",
        "\n",
        "if n % 2 != 0:\n",
        "    print(\"Weird\")\n",
        "elif 2 <= n <= 5:\n",
        "    print(\"Not Weird\")\n",
        "elif 6 <= n <= 20:\n",
        "    print(\"Weird\")\n",
        "else:\n",
        "    print(\"Not Weird\")\n"
      ]
    },
    {
      "cell_type": "code",
      "source": [
        "a = int(input())\n",
        "b = int(input())\n",
        "\n",
        "print(a + b)\n",
        "print(a - b)\n",
        "print(a * b)\n"
      ],
      "metadata": {
        "colab": {
          "base_uri": "https://localhost:8080/"
        },
        "id": "m_1CHnOhxh4V",
        "outputId": "77d56cf1-8a51-470b-9e0e-bfeb96d30637"
      },
      "execution_count": 2,
      "outputs": [
        {
          "output_type": "stream",
          "name": "stdout",
          "text": [
            "2\n",
            "5\n",
            "7\n",
            "-3\n",
            "10\n"
          ]
        }
      ]
    },
    {
      "cell_type": "code",
      "source": [
        "from itertools import groupby\n",
        "\n",
        "s = input()\n",
        "for key, group in groupby(s):\n",
        "    print(f\"({len(list(group))}, {key})\", end=' ')\n"
      ],
      "metadata": {
        "colab": {
          "base_uri": "https://localhost:8080/"
        },
        "id": "EVNYjOU0y6Rh",
        "outputId": "6f25a2bc-6a8d-476f-c013-b00bce70fc15"
      },
      "execution_count": 3,
      "outputs": [
        {
          "output_type": "stream",
          "name": "stdout",
          "text": [
            "1222311\n",
            "(1, 1) (3, 2) (1, 3) (2, 1) "
          ]
        }
      ]
    },
    {
      "cell_type": "code",
      "source": [
        "def minion_game(string):\n",
        "    vowels = 'AEIOU'\n",
        "    kev_score = 0\n",
        "    stu_score = 0\n",
        "    for i in range(len(string)):\n",
        "        if string[i] in vowels:\n",
        "            kev_score += len(string) - i\n",
        "        else:\n",
        "            stu_score += len(string) - i\n",
        "    if kev_score > stu_score:\n",
        "        print(\"Kevin\", kev_score)\n",
        "    elif kev_score < stu_score:\n",
        "        print(\"Stuart\", stu_score)\n",
        "    else:\n",
        "        print(\"Draw\")\n",
        "\n",
        "s = input()\n",
        "minion_game(s)\n"
      ],
      "metadata": {
        "colab": {
          "base_uri": "https://localhost:8080/"
        },
        "id": "LadwlM0ay_1r",
        "outputId": "db239f96-4c4c-4faf-a539-bc413d40e5c8"
      },
      "execution_count": 4,
      "outputs": [
        {
          "output_type": "stream",
          "name": "stdout",
          "text": [
            "BANANA\n",
            "Stuart 12\n"
          ]
        }
      ]
    },
    {
      "cell_type": "code",
      "source": [
        "def is_leap(year):\n",
        "    return year % 4 == 0 and (year % 100 != 0 or year % 400 == 0)\n",
        "\n",
        "year = int(input())\n",
        "print(is_leap(year))\n"
      ],
      "metadata": {
        "colab": {
          "base_uri": "https://localhost:8080/"
        },
        "id": "O0n8mzjuzwhN",
        "outputId": "c46cc2e5-8b1b-4ddb-f83f-21d262f16e97"
      },
      "execution_count": 5,
      "outputs": [
        {
          "output_type": "stream",
          "name": "stdout",
          "text": [
            "1990\n",
            "False\n"
          ]
        }
      ]
    },
    {
      "cell_type": "code",
      "source": [
        "from collections import OrderedDict\n",
        "\n",
        "n = int(input())\n",
        "counts = OrderedDict()\n",
        "\n",
        "for _ in range(n):\n",
        "    word = input()\n",
        "    counts[word] = counts.get(word, 0) + 1\n",
        "\n",
        "print(len(counts))\n",
        "print(*counts.values())\n"
      ],
      "metadata": {
        "colab": {
          "base_uri": "https://localhost:8080/"
        },
        "id": "Pf5LaRLEzyMb",
        "outputId": "302d0df7-e1cf-44b4-926c-4cebc07e4fba"
      },
      "execution_count": 6,
      "outputs": [
        {
          "output_type": "stream",
          "name": "stdout",
          "text": [
            "4\n",
            "bcdef\n",
            "abcdefg\n",
            "bcde\n",
            "bcdef\n",
            "3\n",
            "2 1 1\n"
          ]
        }
      ]
    },
    {
      "cell_type": "code",
      "source": [
        "from itertools import combinations\n",
        "\n",
        "n = int(input())\n",
        "letters = input().split()\n",
        "k = int(input())\n",
        "\n",
        "combos = list(combinations(letters, k))\n",
        "count = sum(1 for c in combos if 'a' in c)\n",
        "print(\"{0:.4f}\".format(count / len(combos)))\n"
      ],
      "metadata": {
        "colab": {
          "base_uri": "https://localhost:8080/"
        },
        "id": "gEz9io5Hzz8B",
        "outputId": "c229e89a-6f56-40df-f05f-4b90dd215297"
      },
      "execution_count": 7,
      "outputs": [
        {
          "output_type": "stream",
          "name": "stdout",
          "text": [
            "4\n",
            "a a c d\n",
            "2\n",
            "0.8333\n"
          ]
        }
      ]
    },
    {
      "cell_type": "code",
      "source": [
        "n = int(input())\n",
        "integer_list = map(int, input().split())\n",
        "print(hash(tuple(integer_list)))\n"
      ],
      "metadata": {
        "colab": {
          "base_uri": "https://localhost:8080/"
        },
        "id": "JkP1xJUlz2VR",
        "outputId": "3d53616a-5314-4482-8bb7-710cab110881"
      },
      "execution_count": 8,
      "outputs": [
        {
          "output_type": "stream",
          "name": "stdout",
          "text": [
            "2\n",
            "1 2\n",
            "-3550055125485641917\n"
          ]
        }
      ]
    },
    {
      "cell_type": "code",
      "source": [
        "n = int(input())\n",
        "stud_marks = {}\n",
        "\n",
        "for _ in range(n):\n",
        "    name, *line = input().split()\n",
        "    scores = list(map(float, line))\n",
        "    stud_marks[name] = scores\n",
        "\n",
        "query = input()\n",
        "avg = sum(stud_marks[query]) / 3\n",
        "print(\"{:.2f}\".format(avg))\n"
      ],
      "metadata": {
        "colab": {
          "base_uri": "https://localhost:8080/"
        },
        "id": "eidtCcQNz6bz",
        "outputId": "1a5e8258-56c8-4f88-d690-6ac7a145b201"
      },
      "execution_count": 12,
      "outputs": [
        {
          "output_type": "stream",
          "name": "stdout",
          "text": [
            "3\n",
            "Arya 67 68 69\n",
            "Shaurya 70 98 63\n",
            "Aryan 52 56 60 \n",
            "Arya\n",
            "68.00\n"
          ]
        }
      ]
    },
    {
      "cell_type": "code",
      "source": [
        "def print_formatted(n):\n",
        "    width = len(bin(n)[2:])\n",
        "    for i in range(1, n+1):\n",
        "        print(str(i).rjust(width),\n",
        "              oct(i)[2:].rjust(width),\n",
        "              hex(i)[2:].upper().rjust(width),\n",
        "              bin(i)[2:].rjust(width))\n",
        "\n",
        "m = int(input())\n",
        "print_formatted(m)\n"
      ],
      "metadata": {
        "colab": {
          "base_uri": "https://localhost:8080/"
        },
        "id": "KnObdlV7z8p1",
        "outputId": "533edb17-fa4b-45c2-a6b6-1e55cee0010c"
      },
      "execution_count": 14,
      "outputs": [
        {
          "output_type": "stream",
          "name": "stdout",
          "text": [
            "2\n",
            " 1  1  1  1\n",
            " 2  2  2 10\n"
          ]
        }
      ]
    },
    {
      "cell_type": "code",
      "source": [
        "2"
      ],
      "metadata": {
        "id": "Ps4C3UhSz-x2"
      },
      "execution_count": null,
      "outputs": []
    }
  ]
}